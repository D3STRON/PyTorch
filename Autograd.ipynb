{
 "cells": [
  {
   "cell_type": "code",
   "execution_count": 2,
   "id": "fb3115a8",
   "metadata": {},
   "outputs": [
    {
     "name": "stdout",
     "output_type": "stream",
     "text": [
      "tensor([ 0.8660,  0.1976, -0.2199], requires_grad=True)\n",
      "tensor([2.8660, 2.1976, 1.7801], grad_fn=<AddBackward0>)\n",
      "tensor(10.8082, grad_fn=<MeanBackward0>)\n"
     ]
    }
   ],
   "source": [
    "import torch\n",
    "\n",
    "x = torch.randn(3, requires_grad= True)\n",
    "\n",
    "print(x)\n",
    "\n",
    "# This creates an operational graph that helps with backpropagation\n",
    "y = x + 2\n",
    "print(y)\n",
    "\n",
    "z = y*y*2\n",
    "z = z.mean()\n",
    "print(z)"
   ]
  },
  {
   "cell_type": "code",
   "execution_count": 3,
   "id": "9e442d55",
   "metadata": {},
   "outputs": [
    {
     "name": "stdout",
     "output_type": "stream",
     "text": [
      "tensor([3.8214, 2.9302, 2.3734])\n"
     ]
    }
   ],
   "source": [
    "# this will calculate the gradient of z wrt to tensor x dz/dx\n",
    "# These gradeitns will be stores in x.grad()\n",
    "z.backward()\n",
    "# Since z here is a scalar value \n",
    "# We dont have to multiply it with a jakovian vector\n",
    "# grad can be implicitly created for scalar values\n",
    "print(x.grad)"
   ]
  },
  {
   "cell_type": "code",
   "execution_count": 4,
   "id": "8bcab0be",
   "metadata": {},
   "outputs": [
    {
     "name": "stdout",
     "output_type": "stream",
     "text": [
      "tensor([ 4.9678, 11.7207,  2.3806])\n"
     ]
    }
   ],
   "source": [
    "# Here z is a vector not a scalar\n",
    "z = y*y*2\n",
    "\n",
    "v = torch.tensor([0.1,1.0,0.001], dtype= torch.float32)\n",
    "z.backward(v)\n",
    "print(x.grad)"
   ]
  },
  {
   "cell_type": "code",
   "execution_count": 6,
   "id": "87e3da6b",
   "metadata": {},
   "outputs": [
    {
     "name": "stdout",
     "output_type": "stream",
     "text": [
      "tensor([ 0.8660,  0.1976, -0.2199])\n",
      "tensor([ 0.8660,  0.1976, -0.2199])\n",
      "tensor([3., 3., 3.])\n"
     ]
    }
   ],
   "source": [
    "# Prevent the tracking the gradient of tensors that we dont want to find the gradient of\n",
    "\n",
    "# this changes the inplace variable\n",
    "x.requires_grad_(False)\n",
    "print(x)\n",
    "# this reutnrs a tensor detached from the operation graph tensor flow creates\n",
    "y = x.detach()\n",
    "print(y)\n",
    "\n",
    "x = torch.ones(3)\n",
    "with torch.no_grad():\n",
    "    y = x + 2\n",
    "    print(y)"
   ]
  },
  {
   "cell_type": "code",
   "execution_count": 12,
   "id": "cffc6e7e",
   "metadata": {},
   "outputs": [
    {
     "name": "stdout",
     "output_type": "stream",
     "text": [
      "tensor(12., grad_fn=<SumBackward0>)\n",
      "tensor([3., 3., 3., 3.])\n",
      "tensor(12., grad_fn=<SumBackward0>)\n",
      "tensor([6., 6., 6., 6.])\n"
     ]
    }
   ],
   "source": [
    "weights = torch.ones(4 , requires_grad = True)\n",
    "\n",
    "for epoch in range(2):\n",
    "    model_output = (weights*3).sum() \n",
    "    print(model_output)\n",
    "    model_output.backward()\n",
    "    \n",
    "    print(weights.grad)\n",
    "# Here you can notice that the gradients are accumulating the weights.grad\n",
    "# TO prevent that do the below"
   ]
  },
  {
   "cell_type": "code",
   "execution_count": 14,
   "id": "6bedf03b",
   "metadata": {},
   "outputs": [
    {
     "name": "stdout",
     "output_type": "stream",
     "text": [
      "tensor([3., 3., 3., 3.])\n",
      "tensor([3., 3., 3., 3.])\n"
     ]
    }
   ],
   "source": [
    "weights = torch.ones(4 , requires_grad = True)\n",
    "\n",
    "for epoch in range(2):\n",
    "    model_output = (weights*3).sum()\n",
    "    \n",
    "    model_output.backward()\n",
    "    \n",
    "    print(weights.grad)\n",
    "    \n",
    "    # This will clear the previous gradients\n",
    "    weights.grad.zero_()"
   ]
  },
  {
   "cell_type": "code",
   "execution_count": null,
   "id": "b549ecbd",
   "metadata": {},
   "outputs": [],
   "source": []
  }
 ],
 "metadata": {
  "kernelspec": {
   "display_name": "Python 3 (ipykernel)",
   "language": "python",
   "name": "python3"
  },
  "language_info": {
   "codemirror_mode": {
    "name": "ipython",
    "version": 3
   },
   "file_extension": ".py",
   "mimetype": "text/x-python",
   "name": "python",
   "nbconvert_exporter": "python",
   "pygments_lexer": "ipython3",
   "version": "3.9.12"
  }
 },
 "nbformat": 4,
 "nbformat_minor": 5
}
