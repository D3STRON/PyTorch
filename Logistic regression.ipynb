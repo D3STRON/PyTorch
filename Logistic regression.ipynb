{
 "cells": [
  {
   "cell_type": "code",
   "execution_count": null,
   "id": "0a6f4690",
   "metadata": {},
   "outputs": [],
   "source": [
    "# final linear regerssio using all the torch helper functions\n",
    "import torch\n",
    "import torch.nn as nn\n",
    "import numpy as np\n",
    "\n",
    "from sklearn import datasets\n",
    "from sklearn.preprocessing import StandardScaler\n",
    "from sklearn.model_selection import train_test_split"
   ]
  },
  {
   "cell_type": "code",
   "execution_count": 15,
   "id": "aba5874a",
   "metadata": {},
   "outputs": [
    {
     "name": "stdout",
     "output_type": "stream",
     "text": [
      "30 569\n"
     ]
    }
   ],
   "source": [
    "bc = datasets.load_breast_cancer()\n",
    "X, Y = bc.data, bc.target\n",
    "# print(Y_numpy)\n",
    "n_samples, n_features = X.shape\n",
    "\n",
    "print(n_features,n_samples)\n",
    "\n",
    "X_train, X_test, Y_train , Y_test = train_test_split(X, Y, test_size=0.2, random_state=1234)\n",
    "\n",
    "#scale\n",
    "sc = StandardScaler()\n",
    "X_train = sc.fit_transform(X_train)\n",
    "X_test = sc.transform(X_test)\n",
    "\n",
    "X_train = torch.from_numpy(X_train.astype(np.float32))\n",
    "X_test = torch.from_numpy(X_test.astype(np.float32))\n",
    "Y_train = torch.from_numpy(Y_train.astype(np.float32))\n",
    "Y_test = torch.from_numpy(Y_test.astype(np.float32))\n",
    "\n",
    "# converts the tensor from 1 row to n rows with one column each\n",
    "Y_train = Y_train.view(Y_train.shape[0],1)\n",
    "Y_test = Y_test.view(Y_test.shape[0],1)\n"
   ]
  },
  {
   "cell_type": "code",
   "execution_count": 24,
   "id": "4557d60f",
   "metadata": {},
   "outputs": [],
   "source": [
    "class LogisticRegression(nn.Module):\n",
    "    def __init__(self, input_dims):\n",
    "        super(LogisticRegression, self).__init__()\n",
    "        self.linear = nn.Linear(input_dims, 1)\n",
    "        \n",
    "    def forward(self, X):\n",
    "        Y_pred = torch.sigmoid(self.linear(X))\n",
    "        return Y_pred"
   ]
  },
  {
   "cell_type": "code",
   "execution_count": 33,
   "id": "bee3ee0f",
   "metadata": {},
   "outputs": [
    {
     "name": "stdout",
     "output_type": "stream",
     "text": [
      "epoch: 1, loss = 0.6058\n",
      "epoch: 11, loss = 0.5011\n",
      "epoch: 21, loss = 0.4324\n",
      "epoch: 31, loss = 0.3843\n",
      "epoch: 41, loss = 0.3487\n",
      "epoch: 51, loss = 0.3212\n",
      "epoch: 61, loss = 0.2992\n",
      "epoch: 71, loss = 0.2811\n",
      "epoch: 81, loss = 0.2660\n",
      "epoch: 91, loss = 0.2530\n",
      "epoch: 101, loss = 0.2418\n",
      "epoch: 111, loss = 0.2319\n",
      "epoch: 121, loss = 0.2232\n",
      "epoch: 131, loss = 0.2154\n",
      "epoch: 141, loss = 0.2083\n",
      "epoch: 151, loss = 0.2019\n",
      "epoch: 161, loss = 0.1960\n",
      "epoch: 171, loss = 0.1906\n",
      "epoch: 181, loss = 0.1857\n",
      "epoch: 191, loss = 0.1811\n",
      "epoch: 201, loss = 0.1768\n",
      "epoch: 211, loss = 0.1729\n",
      "epoch: 221, loss = 0.1692\n",
      "epoch: 231, loss = 0.1657\n",
      "epoch: 241, loss = 0.1625\n",
      "accuracy= 0.9035\n"
     ]
    }
   ],
   "source": [
    "model = LogisticRegression(n_features)\n",
    "\n",
    "# loss and optimizer\n",
    "learning_rate = 0.01\n",
    "criterion = nn.BCELoss()\n",
    "optimizer = torch.optim.SGD(model.parameters(), lr = learning_rate)\n",
    "\n",
    "# Training \n",
    "n_epochs = 250\n",
    "for epoch in range(n_epochs):\n",
    "    Y_pred = model(X_train)\n",
    "    \n",
    "    loss = criterion(Y_pred, Y_train)\n",
    "    \n",
    "    loss.backward()\n",
    "    optimizer.step()\n",
    "    optimizer.zero_grad()\n",
    "    \n",
    "    if epoch % 10 == 0:\n",
    "        print(f'epoch: {epoch+1}, loss = {loss.item():.4f}')\n",
    "        \n",
    "with torch.no_grad():\n",
    "    Y_pred = model(X_test)\n",
    "    Y_pred_cls = Y_pred.round()\n",
    "    acc = Y_pred_cls.eq(Y_test).sum() / float(Y_test.shape[0])\n",
    "    print(f'accuracy= {acc:.4f}')"
   ]
  },
  {
   "cell_type": "code",
   "execution_count": null,
   "id": "ad904222",
   "metadata": {},
   "outputs": [],
   "source": []
  }
 ],
 "metadata": {
  "kernelspec": {
   "display_name": "Python 3 (ipykernel)",
   "language": "python",
   "name": "python3"
  },
  "language_info": {
   "codemirror_mode": {
    "name": "ipython",
    "version": 3
   },
   "file_extension": ".py",
   "mimetype": "text/x-python",
   "name": "python",
   "nbconvert_exporter": "python",
   "pygments_lexer": "ipython3",
   "version": "3.9.12"
  }
 },
 "nbformat": 4,
 "nbformat_minor": 5
}
