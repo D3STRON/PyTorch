{
 "cells": [
  {
   "cell_type": "code",
   "execution_count": 1,
   "id": "d5803605",
   "metadata": {},
   "outputs": [],
   "source": [
    "import torch\n",
    "import torch.nn as nn\n",
    "import torchvision\n",
    "import torchvision.transforms as transforms\n",
    "from torch.utils.data import Dataset, DataLoader\n",
    "import matplotlib.pyplot as plt"
   ]
  },
  {
   "cell_type": "code",
   "execution_count": 12,
   "id": "3a1bdf5a",
   "metadata": {},
   "outputs": [],
   "source": [
    "device = torch.device('cuda' if torch.cuda.is_available() else 'cpu')"
   ]
  },
  {
   "cell_type": "code",
   "execution_count": 13,
   "id": "58c90bf8",
   "metadata": {},
   "outputs": [
    {
     "name": "stdout",
     "output_type": "stream",
     "text": [
      "torch.Size([100, 1, 28, 28]) torch.Size([100])\n"
     ]
    },
    {
     "data": {
      "image/png": "[encoded data removed]",
      "text/plain": [
       "<Figure size 432x288 with 1 Axes>"
      ]
     },
     "metadata": {
      "needs_background": "light"
     },
     "output_type": "display_data"
    },
    {
     "data": {
      "image/png": "[encoded data removed]",
      "text/plain": [
       "<Figure size 432x288 with 1 Axes>"
      ]
     },
     "metadata": {
      "needs_background": "light"
     },
     "output_type": "display_data"
    },
    {
     "data": {
      "image/png": "[encoded data removed]",
      "text/plain": [
       "<Figure size 432x288 with 1 Axes>"
      ]
     },
     "metadata": {
      "needs_background": "light"
     },
     "output_type": "display_data"
    },
    {
     "data": {
      "image/png": "[encoded data removed]",
      "text/plain": [
       "<Figure size 432x288 with 1 Axes>"
      ]
     },
     "metadata": {
      "needs_background": "light"
     },
     "output_type": "display_data"
    },
    {
     "data": {
      "image/png": "[encoded data removed]",
      "text/plain": [
       "<Figure size 432x288 with 1 Axes>"
      ]
     },
     "metadata": {
      "needs_background": "light"
     },
     "output_type": "display_data"
    },
    {
     "data": {
      "image/png": "[encoded data removed]",
      "text/plain": [
       "<Figure size 432x288 with 1 Axes>"
      ]
     },
     "metadata": {
      "needs_background": "light"
     },
     "output_type": "display_data"
    }
   ],
   "source": [
    "# we will keep feeding the RNN one row at a time \n",
    "input_size = 28\n",
    "# there are 28 such rows in the image\n",
    "sequence_length = 28\n",
    "\n",
    "# this means that we will have two layers of nodes stacked in the RNN\n",
    "num_layers = 2\n",
    "hidden_size = 128\n",
    "\n",
    "num_classes = 10\n",
    "num_epochs = 2\n",
    "batch_size = 100\n",
    "learning_rate = 0.001\n",
    "\n",
    "train_dataset = torchvision.datasets.MNIST(root='./data', train= True,\n",
    "                                          transform= transforms.ToTensor(), download=True)\n",
    "\n",
    "test_dataset = torchvision.datasets.MNIST(root='./data', train= False,\n",
    "                                          transform= transforms.ToTensor())\n",
    "\n",
    "train_loader = DataLoader(dataset=train_dataset,\n",
    "                              batch_size=batch_size,\n",
    "                              shuffle=True,\n",
    "                              num_workers=0)\n",
    "\n",
    "test_loader = DataLoader(dataset=test_dataset,\n",
    "                              batch_size=batch_size,\n",
    "                              shuffle=False,\n",
    "                              num_workers=0)\n",
    "\n",
    "examples = iter(train_loader)\n",
    "samples, lables = next(examples)\n",
    "print(samples.shape, lables.shape)\n",
    "\n",
    "for i in range(6):\n",
    "    plt.subplot(2, 3, i+1)\n",
    "    plt.imshow(samples[i][0], cmap='gray')\n",
    "    plt.show()"
   ]
  },
  {
   "cell_type": "code",
   "execution_count": 22,
   "id": "719b9a33",
   "metadata": {},
   "outputs": [],
   "source": [
    "class RNN(nn.Module):\n",
    "    def __init__(self, input_size, hidden_size, num_layers, num_classes):\n",
    "        super(RNN, self).__init__()\n",
    "        self.num_layers = num_layers\n",
    "        self.hidden_size = hidden_size\n",
    "#         self.rnn = nn.RNN(input_size, hidden_size,num_layers, batch_first = True)\n",
    "#         self.gru = nn.GRU(input_size, hidden_size,num_layers, batch_first = True)\n",
    "        self.lstm = nn.LSTM(input_size, hidden_size,num_layers, batch_first = True)\n",
    "        #  the input x has to be in this format x -> (batch_size, seq, input_size)\n",
    "        self.fc = nn.Linear(hidden_size, num_classes)\n",
    "        \n",
    "    def forward(self, x):\n",
    "        h_0 = torch.zeros(self.num_layers, x.size(0), self.hidden_size).to(device)\n",
    "        c_0 = torch.zeros(self.num_layers, x.size(0), self.hidden_size).to(device)\n",
    "        # below output will be the out put of all the time steps but we need of only the latest\n",
    "#         out, _ = self.rnn(x, h_0)\n",
    "#         out, _ = self.gru(x, h_0)\n",
    "        out, _ = self.lstm(x, (h_0,c_0))\n",
    "        # outputs is how dimensions batch_size, seq_length, hiden_size\n",
    "        # out (N, 28, 128)\n",
    "        out = out[:,-1,:]\n",
    "        # out (N, 128)\n",
    "        out = self.fc(out)\n",
    "        return out"
   ]
  },
  {
   "cell_type": "code",
   "execution_count": 23,
   "id": "068462d0",
   "metadata": {},
   "outputs": [
    {
     "name": "stdout",
     "output_type": "stream",
     "text": [
      "epoch: 1, step 100, loss = 0.8500\n",
      "epoch: 1, step 200, loss = 0.3981\n",
      "epoch: 1, step 300, loss = 0.3067\n",
      "epoch: 1, step 400, loss = 0.2483\n",
      "epoch: 1, step 500, loss = 0.1830\n",
      "epoch: 1, step 600, loss = 0.2011\n",
      "epoch: 2, step 100, loss = 0.0651\n",
      "epoch: 2, step 200, loss = 0.0615\n",
      "epoch: 2, step 300, loss = 0.0637\n",
      "epoch: 2, step 400, loss = 0.0997\n",
      "epoch: 2, step 500, loss = 0.0883\n",
      "epoch: 2, step 600, loss = 0.1093\n",
      "accuracy =96.2700\n"
     ]
    }
   ],
   "source": [
    "model = RNN(input_size, hidden_size, num_layers, num_classes).to(device)\n",
    "\n",
    "criterion = nn.CrossEntropyLoss()\n",
    "optimizer = torch.optim.Adam(model.parameters(), lr=learning_rate)\n",
    "\n",
    "n_total_steps = len(train_loader)\n",
    "for epoch in range(num_epochs):\n",
    "    for i, (images, lables) in enumerate(train_loader):\n",
    "        # the image datas is 100(batch size) * 1 * 28 * 28 (28 * 28 actual image)\n",
    "        # that has to be reshaped for the rnn \n",
    "        # we need it to be 100(batch size) , 28 sequences of 28 rows of pixels\n",
    "        images = images.reshape(-1, sequence_length, input_size).to(device)\n",
    "        lables = lables.to(device)\n",
    "        \n",
    "        # forward \n",
    "        outputs = model(images)\n",
    "        loss = criterion(outputs, lables)\n",
    "        \n",
    "        optimizer.zero_grad()\n",
    "        loss.backward()\n",
    "        optimizer.step()\n",
    "        \n",
    "        if (i+1) % 100 == 0:\n",
    "            print(f'epoch: {epoch+1}, step {i+1}, loss = {loss.item():.4f}')\n",
    "\n",
    "with torch.no_grad():\n",
    "    n_correct = 0\n",
    "    n_samples = 0\n",
    "    for i, (images, lables) in enumerate(test_loader):\n",
    "        images = images.reshape(-1, sequence_length, input_size).to(device)\n",
    "        lables = lables.to(device)\n",
    "        outputs = model(images)\n",
    "        \n",
    "        _, predictions = torch.max(outputs, 1)\n",
    "        n_samples  += lables.shape[0]\n",
    "        n_correct += (predictions == lables).sum().item()\n",
    "    acc = 100* n_correct / n_samples\n",
    "    print(f'accuracy ={acc:.4f}')"
   ]
  },
  {
   "cell_type": "code",
   "execution_count": null,
   "id": "30762177",
   "metadata": {},
   "outputs": [],
   "source": []
  }
 ],
 "metadata": {
  "kernelspec": {
   "display_name": "Python 3 (ipykernel)",
   "language": "python",
   "name": "python3"
  },
  "language_info": {
   "codemirror_mode": {
    "name": "ipython",
    "version": 3
   },
   "file_extension": ".py",
   "mimetype": "text/x-python",
   "name": "python",
   "nbconvert_exporter": "python",
   "pygments_lexer": "ipython3",
   "version": "3.9.12"
  }
 },
 "nbformat": 4,
 "nbformat_minor": 5
}
