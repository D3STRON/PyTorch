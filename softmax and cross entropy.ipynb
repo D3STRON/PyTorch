{
 "cells": [
  {
   "cell_type": "code",
   "execution_count": 2,
   "id": "154209c9",
   "metadata": {},
   "outputs": [],
   "source": [
    "import torch\n",
    "import torch.nn as nn"
   ]
  },
  {
   "cell_type": "code",
   "execution_count": 3,
   "id": "939155df",
   "metadata": {},
   "outputs": [
    {
     "name": "stdout",
     "output_type": "stream",
     "text": [
      "tensor([0.6590, 0.2424, 0.0986])\n"
     ]
    }
   ],
   "source": [
    "# soft max\n",
    "x = torch.tensor([2.0, 1.0, 0.1])\n",
    "outputs = torch.softmax(x, dim = 0)\n",
    "print(outputs)"
   ]
  },
  {
   "cell_type": "code",
   "execution_count": 16,
   "id": "55ab21fb",
   "metadata": {},
   "outputs": [
    {
     "name": "stdout",
     "output_type": "stream",
     "text": [
      "0.4170299470424652\n",
      "1.840616226196289\n",
      "tensor([0]) tensor([1])\n"
     ]
    }
   ],
   "source": [
    "# Corss Entropy\n",
    "loss = nn.CrossEntropyLoss()\n",
    "\n",
    "# this says that the expected output is class zero\n",
    "Y = torch.tensor([0])\n",
    "# N samples x N classes = 1x3\n",
    "# Here class zero has the highest value \n",
    "Y_pred_good = torch.tensor([[2.0, 1.0, 0.1]])\n",
    "# Here class zero has the lowest value\n",
    "Y_pred_bad = torch.tensor([[0.5, 2.0, 0.3]])\n",
    "\n",
    "l1 = loss(Y_pred_good, Y)\n",
    "l2 = loss(Y_pred_bad, Y)\n",
    "\n",
    "print(l1.item())\n",
    "print(l2.item())\n",
    "\n",
    "# Taking out the predictions\n",
    "_, prediction1 = torch.max(Y_pred_good, 1)\n",
    "_, prediction2 = torch.max(Y_pred_bad, 1)\n",
    "\n",
    "print(prediction1, prediction2)"
   ]
  },
  {
   "cell_type": "code",
   "execution_count": 18,
   "id": "84b99006",
   "metadata": {},
   "outputs": [
    {
     "name": "stdout",
     "output_type": "stream",
     "text": [
      "1.4170299768447876\n",
      "0.34061628580093384\n",
      "tensor([0]) tensor([1])\n"
     ]
    }
   ],
   "source": [
    "# Similar to above\n",
    "# this says that the expected output is class one\n",
    "Y = torch.tensor([1])\n",
    "# N samples x N classes = 1x3\n",
    "# Here class one has the Lowest value \n",
    "Y_pred_bad = torch.tensor([[2.0, 1.0, 0.1]])\n",
    "# Here class one has the highest value\n",
    "Y_pred_good = torch.tensor([[0.5, 2.0, 0.3]])\n",
    "\n",
    "l1 = loss(Y_pred_bad, Y)\n",
    "l2 = loss(Y_pred_good, Y)\n",
    "\n",
    "print(l1.item())\n",
    "print(l2.item())\n",
    "\n",
    "# Taking out the predictions\n",
    "_, prediction1 = torch.max(Y_pred_bad, 1)\n",
    "_, prediction2 = torch.max(Y_pred_good, 1)\n",
    "\n",
    "print(prediction1, prediction2)"
   ]
  },
  {
   "cell_type": "code",
   "execution_count": 19,
   "id": "3fbd7b02",
   "metadata": {},
   "outputs": [
    {
     "name": "stdout",
     "output_type": "stream",
     "text": [
      "0.4170299768447876\n",
      "1.7170299291610718\n",
      "tensor([2, 0, 1]) tensor([1, 2, 0])\n"
     ]
    }
   ],
   "source": [
    "# In the above examples we can see that the labled tensor Y has only one class \n",
    "# but Ideally if there are 3 predictions then there should be 3 class in the labled tensor as well\n",
    "# Corss Entropy\n",
    "loss = nn.CrossEntropyLoss()\n",
    "\n",
    "# this says that the expected outputs are class two, zero, one\n",
    "Y = torch.tensor([2,0,1])\n",
    "# N samples x N classes = 3x3\n",
    "# Here class two zero has the highest value in first element \n",
    "# Class zero has the highest value in the second element \n",
    "# CLass one has the highest value in the third element\n",
    "Y_pred_good = torch.tensor([[1.0, 0.1, 2.0], [2.0, 0.1, 1.0], [1.0, 2.0, 0.1]])\n",
    "# Here class zero has the lowest value\n",
    "Y_pred_bad = torch.tensor([[1.0, 2.0, 0.1], [1.0, 0.1, 2.0], [2.0, 1.0, 0.1]])\n",
    "\n",
    "l1 = loss(Y_pred_good, Y)\n",
    "l2 = loss(Y_pred_bad, Y)\n",
    "\n",
    "print(l1.item())\n",
    "print(l2.item())\n",
    "\n",
    "# Taking out the predictions\n",
    "_, prediction1 = torch.max(Y_pred_good, 1)\n",
    "_, prediction2 = torch.max(Y_pred_bad, 1)\n",
    "\n",
    "print(prediction1, prediction2)"
   ]
  },
  {
   "cell_type": "code",
   "execution_count": null,
   "id": "7a8014f8",
   "metadata": {},
   "outputs": [],
   "source": []
  }
 ],
 "metadata": {
  "kernelspec": {
   "display_name": "Python 3 (ipykernel)",
   "language": "python",
   "name": "python3"
  },
  "language_info": {
   "codemirror_mode": {
    "name": "ipython",
    "version": 3
   },
   "file_extension": ".py",
   "mimetype": "text/x-python",
   "name": "python",
   "nbconvert_exporter": "python",
   "pygments_lexer": "ipython3",
   "version": "3.9.12"
  }
 },
 "nbformat": 4,
 "nbformat_minor": 5
}
