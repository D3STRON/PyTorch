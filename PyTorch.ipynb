{
 "cells": [
  {
   "cell_type": "code",
   "execution_count": 22,
   "id": "32e6a277",
   "metadata": {},
   "outputs": [
    {
     "name": "stdout",
     "output_type": "stream",
     "text": [
      "tensor([0., 0., 0.])\n",
      "tensor([[8.2661e-10, 1.0073e-11, 6.6820e+22],\n",
      "        [1.3592e+22, 3.3554e-06, 2.5207e-09]])\n",
      "tensor([[[0., 0., 0.],\n",
      "         [0., 0., 0.]],\n",
      "\n",
      "        [[0., 0., 0.],\n",
      "         [0., 0., 0.]]])\n"
     ]
    }
   ],
   "source": [
    "import torch \n",
    "import numpy as np\n",
    "\n",
    "x = torch.empty(3)\n",
    "print(x)\n",
    "\n",
    "x = torch.empty(2,3)\n",
    "print(x)\n",
    "\n",
    "x = torch.empty(2,2,3)\n",
    "print(x)"
   ]
  },
  {
   "cell_type": "code",
   "execution_count": 7,
   "id": "08f43c12",
   "metadata": {},
   "outputs": [
    {
     "name": "stdout",
     "output_type": "stream",
     "text": [
      "tensor([[0.1001, 0.0468],\n",
      "        [0.6296, 0.8723]])\n"
     ]
    }
   ],
   "source": [
    "x = torch.rand(2,2)\n",
    "print(x)"
   ]
  },
  {
   "cell_type": "code",
   "execution_count": 8,
   "id": "0216dc33",
   "metadata": {},
   "outputs": [
    {
     "name": "stdout",
     "output_type": "stream",
     "text": [
      "tensor([[1, 1],\n",
      "        [1, 1]], dtype=torch.int32)\n"
     ]
    }
   ],
   "source": [
    "x = torch.ones(2,2,dtype=torch.int)\n",
    "print(x)"
   ]
  },
  {
   "cell_type": "code",
   "execution_count": 9,
   "id": "69604b92",
   "metadata": {},
   "outputs": [
    {
     "name": "stdout",
     "output_type": "stream",
     "text": [
      "torch.Size([2, 2])\n"
     ]
    }
   ],
   "source": [
    "print(x.size())"
   ]
  },
  {
   "cell_type": "code",
   "execution_count": 10,
   "id": "7b65f5fc",
   "metadata": {},
   "outputs": [
    {
     "name": "stdout",
     "output_type": "stream",
     "text": [
      "tensor([2, 3, 4])\n"
     ]
    }
   ],
   "source": [
    "x = torch.tensor([2,3,4])\n",
    "print(x)"
   ]
  },
  {
   "cell_type": "code",
   "execution_count": 11,
   "id": "cdb23ffc",
   "metadata": {},
   "outputs": [
    {
     "name": "stdout",
     "output_type": "stream",
     "text": [
      "tensor([[0.5557, 0.7550],\n",
      "        [0.3886, 0.2396]]) tensor([[0.5491, 0.3589],\n",
      "        [0.4443, 0.0423]])\n",
      "tensor([[1.1047, 1.1140],\n",
      "        [0.8329, 0.2819]])\n"
     ]
    }
   ],
   "source": [
    "x = torch.rand(2,2)\n",
    "y = torch.rand(2,2)\n",
    "print(x, y)\n",
    "z = x + y\n",
    "print(z)\n",
    "z = torch.add(z,y)\n",
    "print(z)"
   ]
  },
  {
   "cell_type": "code",
   "execution_count": 12,
   "id": "0ef8c7b2",
   "metadata": {},
   "outputs": [
    {
     "name": "stdout",
     "output_type": "stream",
     "text": [
      "tensor([[1.1047, 1.1140],\n",
      "        [0.8329, 0.2819]])\n"
     ]
    }
   ],
   "source": [
    "y.add_(x)\n",
    "# trailing underscore will do and in place operation\n",
    "print(y)"
   ]
  },
  {
   "cell_type": "code",
   "execution_count": 13,
   "id": "e4de402b",
   "metadata": {},
   "outputs": [
    {
     "name": "stdout",
     "output_type": "stream",
     "text": [
      "tensor([[-0.5491, -0.3589],\n",
      "        [-0.4443, -0.0423]])\n",
      "tensor([[0.6139, 0.8411],\n",
      "        [0.3237, 0.0675]])\n",
      "tensor([[0.5030, 0.6778],\n",
      "        [0.4666, 0.8500]])\n"
     ]
    }
   ],
   "source": [
    "z = x - y\n",
    "z = torch.sub(x,y)\n",
    "print(z)\n",
    "\n",
    "z = torch.mul(x,y)\n",
    "print(z)\n",
    "\n",
    "z = torch.div(x,y)\n",
    "print(z)"
   ]
  },
  {
   "cell_type": "code",
   "execution_count": 15,
   "id": "363983f7",
   "metadata": {},
   "outputs": [
    {
     "name": "stdout",
     "output_type": "stream",
     "text": [
      "tensor([[0.6167, 0.1808, 0.4396],\n",
      "        [0.5944, 0.0340, 0.7649],\n",
      "        [0.4396, 0.3817, 0.2992],\n",
      "        [0.5493, 0.3689, 0.8026],\n",
      "        [0.1496, 0.8289, 0.0037]])\n",
      "tensor([0.5944, 0.0340, 0.7649])\n"
     ]
    }
   ],
   "source": [
    "x  = torch.rand(5, 3)\n",
    "print(x)\n",
    "#print all columns of first row\n",
    "print(x[1,:])"
   ]
  },
  {
   "cell_type": "code",
   "execution_count": 17,
   "id": "9018e4e1",
   "metadata": {},
   "outputs": [
    {
     "name": "stdout",
     "output_type": "stream",
     "text": [
      "tensor(0.0340)\n",
      "0.03404974937438965\n"
     ]
    }
   ],
   "source": [
    "print(x[1,1])\n",
    "print(x[1,1].item())"
   ]
  },
  {
   "cell_type": "code",
   "execution_count": 19,
   "id": "5a71e254",
   "metadata": {},
   "outputs": [
    {
     "name": "stdout",
     "output_type": "stream",
     "text": [
      "tensor([0.7710, 0.3317, 0.2779, 0.7248, 0.9734, 0.8695, 0.5878, 0.2347, 0.5775,\n",
      "        0.7689, 0.9167, 0.0962, 0.1681, 0.2052, 0.7005, 0.9178])\n"
     ]
    }
   ],
   "source": [
    "x = torch.rand(4,4)\n",
    "# makes the matrix into 1 dimensional vector\n",
    "y = x.view(16)\n",
    "print(y)"
   ]
  },
  {
   "cell_type": "code",
   "execution_count": 21,
   "id": "6ff4f45a",
   "metadata": {},
   "outputs": [
    {
     "name": "stdout",
     "output_type": "stream",
     "text": [
      "tensor([[0.5137, 0.6008, 0.6068, 0.8773, 0.5733, 0.5268, 0.6719, 0.0565],\n",
      "        [0.8675, 0.5200, 0.7047, 0.4315, 0.6249, 0.6011, 0.2857, 0.4914]])\n"
     ]
    }
   ],
   "source": [
    "x = torch.rand(4,4)\n",
    "# if we do not know or want to specifiy one of the dimensions \n",
    "# pytorch will automatically determine that dimension\n",
    "y = x.view(-1,8)\n",
    "# this will now print 2, 8 dimensional tensor\n",
    "print(y)"
   ]
  },
  {
   "cell_type": "code",
   "execution_count": 31,
   "id": "addaa444",
   "metadata": {},
   "outputs": [
    {
     "name": "stdout",
     "output_type": "stream",
     "text": [
      "<class 'numpy.ndarray'>\n",
      "[2. 2. 2. 2. 2.]\n",
      "<class 'torch.Tensor'>\n"
     ]
    }
   ],
   "source": [
    "a = torch.ones(5)\n",
    "b = a.numpy()\n",
    "print(type(b))\n",
    "\n",
    "a.add_(1)\n",
    "# changes in a will also change b\n",
    "print(b)\n",
    "\n",
    "a = np.ones(5)\n",
    "b = torch.from_numpy(a)\n",
    "print(type(b))"
   ]
  },
  {
   "cell_type": "code",
   "execution_count": 35,
   "id": "763cab91",
   "metadata": {},
   "outputs": [],
   "source": [
    "# Moves the tensor to the GPU\n",
    "device = torch.device('cuda')\n",
    "x = torch.ones(5, device= device)\n",
    "y = torch.ones(5, device= device)\n",
    "z = x + y\n",
    "# z.numpy() wont work because numpy cannot handle gpu tensors\n",
    "z = z.to('cpu')"
   ]
  },
  {
   "cell_type": "code",
   "execution_count": null,
   "id": "efc90f2a",
   "metadata": {},
   "outputs": [],
   "source": [
    "# this specifies that pytorch will have to calculate the gradient of this tensor\n",
    "x = torch.ones(5, requires_grad=True)"
   ]
  }
 ],
 "metadata": {
  "kernelspec": {
   "display_name": "Python 3 (ipykernel)",
   "language": "python",
   "name": "python3"
  },
  "language_info": {
   "codemirror_mode": {
    "name": "ipython",
    "version": 3
   },
   "file_extension": ".py",
   "mimetype": "text/x-python",
   "name": "python",
   "nbconvert_exporter": "python",
   "pygments_lexer": "ipython3",
   "version": "3.9.12"
  }
 },
 "nbformat": 4,
 "nbformat_minor": 5
}
